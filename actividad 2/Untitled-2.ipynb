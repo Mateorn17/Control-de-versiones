{
 "cells": [
  {
   "cell_type": "code",
   "execution_count": null,
   "id": "1d030e6b",
   "metadata": {},
   "outputs": [],
   "source": [
    "import cv2\n",
    "\n",
    "cam_port = 0\n",
    "cam = cv2.VideoCapture(cam_port)\n",
    "\n",
    "while True:\n",
    "\n",
    "    result, frame = cam.read()    \n",
    "    \n",
    "    if result: \n",
    "\n",
    "        # Convertir a escala de grises\n",
    "        gray = cv2.cvtColor(frame, cv2.COLOR_BGR2GRAY)\n",
    "        # Detectar bordes con Canny\n",
    "        edges = cv2.Canny(gray, 100, 200)\n",
    "\n",
    "        cv2.imshow(\"Press q to quit\", edges)\n",
    "\n",
    "        if cv2.waitKey(1) & 0xFF == ord('q'):\n",
    "            break\n",
    "\n",
    "cam.release()\n",
    "cv2.destroyAllWindows()\n"
   ]
  }
 ],
 "metadata": {
  "language_info": {
   "name": "python"
  }
 },
 "nbformat": 4,
 "nbformat_minor": 5
}
